{
 "cells": [
  {
   "attachments": {},
   "cell_type": "markdown",
   "metadata": {},
   "source": [
    "//내가 생각한 방법\n",
    "#직전 방향 : 위\n",
    "if (x', y') - (x, y) == (-1, 0) :\n",
    "  offset = [[-1, 0],\n",
    "          [0, 1],\n",
    "          [1, 0]]\n",
    "\n",
    "//이 방법 말고 교수님이 추천하신 방법 : 원리는 같은데 수정하는 부분이 다름\n",
    "\n",
    "예를 들어서, 원래는\n",
    "maze[x][y] = PATH_COLOUR;\n",
    "if (findMazePath(x-1, y) || findMazePath(x, y+1) || findMazePath(x+1, y) || findMazePath(x, y-1)) {\n",
    "  return true;\n",
    "}\n",
    "\n",
    "이렇게 했었다면,\n",
    "이제는 진입하는 방향에 따라 갈 수 있는 방향이 제한되므로,\n",
    "\n",
    "maze[x][y] = PATH_COLOUR;\n",
    "//진입 방향 조건 : (-1, 0)\n",
    "if (findMazePath(x-1, y) || findMazePath(x, y+1) || findMazePath(x+1, y)) {\n",
    "  return true;\n",
    "}\n",
    "\n",
    "뭐 이런 식..인 듯?\n",
    "아니 근데 나머지면 offset인가..?\n",
    "\n",
    "ㄴ아..교수님 코드엔 이 부분이 없구나. 결국 같은 말인 듯..\n",
    "\n",
    "\n",
    "\n",
    "그러면 유턴은..어쩌지.\n",
    "if 만약 현재 위치에서 출구로 가는 방법이 없다면?\n",
    "  제자리에서 유턴을 시도한다.\n",
    "    여기서도 안 되면?\n",
    "     한 칸 후진해서(바로 직전 좌표로 가서) 다시 후진을 시도한다.\n",
    "      여기서도 안 되면?\n",
    "        false\n",
    "\n",
    "\n",
    "\n",
    "\n",
    "#방향을 0, 1, 2, 3으로 딱 지정해서 나머지가 0, 1, 2, 3에 해당하면 그 방향 방향 어쩌구..\n",
    "네?\n",
    "ㅜ\n",
    "C언어의 경우 음수를 모듈러 어쩌구 하면 안 돌아가니까 (원래 수) + 4 / 2 뭐 이렇게 하라고 하셨나..? ㅜ\n",
    "\"내가 너무 앞서 나갔나?\" 하심. ㅋㅎㅋㅎ\n",
    "\n",
    "\n"
   ]
  },
  {
   "cell_type": "code",
   "execution_count": 3,
   "metadata": {},
   "outputs": [
    {
     "data": {
      "text/plain": [
       "(6,\n",
       " [[0, 0, 0, 0, 0, 0],\n",
       "  [0, 1, 1, 0, 1, 1],\n",
       "  [0, 0, 1, 0, 0, 0],\n",
       "  [0, 0, 0, 0, 0, 0],\n",
       "  [0, 1, 1, 0, 1, 0],\n",
       "  [0, 0, 0, 0, 0, 0]],\n",
       " (5, 5))"
      ]
     },
     "execution_count": 3,
     "metadata": {},
     "output_type": "execute_result"
    }
   ],
   "source": [
    "path = 'input.txt'\n",
    "with open(path, 'r') as f:\n",
    "    T = int(f.readline().strip())\n",
    "    test_cases = []\n",
    "    for _ in range(T):\n",
    "        N = int(f.readline().strip())\n",
    "        maze = []\n",
    "        for _ in range(N):\n",
    "            row = list(map(int, f.readline().strip().split()))\n",
    "            maze.append(row)\n",
    "        exit_pos = tuple(map(int, f.readline().strip().split()))\n",
    "        test_cases.append((N, maze, exit_pos))\n",
    "\n",
    "test_cases[0]"
   ]
  }
 ],
 "metadata": {
  "kernelspec": {
   "display_name": "Python 3",
   "language": "python",
   "name": "python3"
  },
  "language_info": {
   "codemirror_mode": {
    "name": "ipython",
    "version": 3
   },
   "file_extension": ".py",
   "mimetype": "text/x-python",
   "name": "python",
   "nbconvert_exporter": "python",
   "pygments_lexer": "ipython3",
   "version": "3.9.13"
  },
  "orig_nbformat": 4
 },
 "nbformat": 4,
 "nbformat_minor": 2
}
