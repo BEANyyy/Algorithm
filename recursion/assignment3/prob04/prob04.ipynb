{
 "cells": [
  {
   "cell_type": "code",
   "execution_count": 5,
   "metadata": {},
   "outputs": [
    {
     "name": "stdout",
     "output_type": "stream",
     "text": [
      "158\n"
     ]
    }
   ],
   "source": [
    "def knapsack(N, W, weights, values):\n",
    "    max_value = 0\n",
    "    for i in range(2**N):\n",
    "        total_weight = 0\n",
    "        total_value = 0\n",
    "        for j in range(N):\n",
    "            if i & (1 << j):\n",
    "                total_weight += weights[j]\n",
    "                total_value += values[j]\n",
    "        if total_weight <= W and total_value > max_value:\n",
    "            max_value = total_value\n",
    "    return max_value\n",
    "\n",
    "with open(\"input4.txt\", \"r\") as f:\n",
    "    N = int(f.readline())\n",
    "    W = int(f.readline())\n",
    "    weights = list(map(int, f.readline().split()))\n",
    "    values = list(map(int, f.readline().split()))\n",
    "\n",
    "result = knapsack(N, W, weights, values)\n",
    "\n",
    "print(result)"
   ]
  }
 ],
 "metadata": {
  "kernelspec": {
   "display_name": "Python 3",
   "language": "python",
   "name": "python3"
  },
  "language_info": {
   "codemirror_mode": {
    "name": "ipython",
    "version": 3
   },
   "file_extension": ".py",
   "mimetype": "text/x-python",
   "name": "python",
   "nbconvert_exporter": "python",
   "pygments_lexer": "ipython3",
   "version": "3.9.13"
  },
  "orig_nbformat": 4
 },
 "nbformat": 4,
 "nbformat_minor": 2
}
