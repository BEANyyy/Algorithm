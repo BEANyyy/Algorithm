{
 "cells": [
  {
   "attachments": {},
   "cell_type": "markdown",
   "metadata": {},
   "source": [
    "난수 생성"
   ]
  },
  {
   "cell_type": "code",
   "execution_count": 30,
   "metadata": {},
   "outputs": [
    {
     "name": "stdout",
     "output_type": "stream",
     "text": [
      "1000\n"
     ]
    }
   ],
   "source": [
    "import random\n",
    "\n",
    "def ran(n):\n",
    "    ran_arr = []\n",
    "    for _ in range(0, n):\n",
    "        ran_arr.append(random.randint(0, n * 10))\n",
    "    return ran_arr\n",
    "\n",
    "print(len(ran(1000)))"
   ]
  },
  {
   "cell_type": "markdown",
   "metadata": {},
   "source": [
    "Bubble Sort"
   ]
  },
  {
   "cell_type": "code",
   "execution_count": 9,
   "metadata": {},
   "outputs": [
    {
     "name": "stdout",
     "output_type": "stream",
     "text": [
      "[0, 1, 9, 17, 20, 22, 32, 36, 69, 79, 81, 89, 96, 99, 103, 112, 120, 122, 124, 131, 136, 148, 160, 175, 182, 187, 203, 208, 213, 241, 245, 255, 256, 273, 288, 302, 306, 312, 315, 337, 358, 360, 364, 367, 373, 436, 457, 467, 474, 476, 500, 503, 508, 517, 522, 528, 529, 529, 578, 580, 610, 617, 627, 636, 656, 678, 683, 732, 734, 738, 747, 750, 758, 761, 765, 790, 795, 797, 809, 825, 830, 834, 838, 841, 847, 851, 860, 861, 862, 899, 904, 904, 906, 916, 935, 942, 944, 957, 962, 973]\n",
      "100\n",
      " 0.004 sec\n"
     ]
    }
   ],
   "source": [
    "import time\n",
    "\n",
    "def bubble(arr):\n",
    "    for _ in range(len(arr) - 1):\n",
    "        for j in range(len(arr) - 1):\n",
    "            if arr[j+1] < arr[j]:\n",
    "                arr[j], arr[j+1] = arr[j+1], arr[j]\n",
    "    return arr\n",
    "\n",
    "start = time.time()\n",
    "\n",
    "#정렬한 배열 출력\n",
    "print(bubble(ran(100)))\n",
    "\n",
    "#배열의 크기 확인\n",
    "print(len(bubble(ran(100))))\n",
    "\n",
    "end = time.time()\n",
    "print(f\"{end - start: .3f} sec\")"
   ]
  },
  {
   "cell_type": "markdown",
   "metadata": {},
   "source": [
    "selection sort"
   ]
  },
  {
   "cell_type": "code",
   "execution_count": 13,
   "metadata": {},
   "outputs": [
    {
     "name": "stdout",
     "output_type": "stream",
     "text": [
      "[7, 12, 17, 45, 49, 55, 59, 61, 67, 76, 90, 91, 106, 142, 164, 170, 170, 187, 201, 202, 209, 210, 216, 219, 241, 242, 244, 262, 269, 271, 278, 290, 336, 352, 355, 371, 372, 376, 385, 394, 397, 407, 421, 433, 448, 449, 449, 459, 465, 477, 478, 486, 489, 512, 546, 563, 567, 568, 584, 587, 588, 608, 623, 625, 634, 639, 671, 681, 691, 704, 709, 720, 734, 735, 744, 749, 771, 774, 786, 792, 794, 804, 810, 840, 857, 878, 880, 888, 895, 898, 913, 919, 928, 933, 942, 943, 957, 988, 999, 1000]\n",
      "100\n",
      " 0.002 sec\n"
     ]
    }
   ],
   "source": [
    "start = time.time()\n",
    "\n",
    "def selection(arr):\n",
    "    for i in range(len(arr)):\n",
    "        min_idx = i\n",
    "\n",
    "        #현재~마지막index까지 중에 최소값\n",
    "        for j in range(i, len(arr)):\n",
    "            if arr[j] < arr[min_idx]:\n",
    "                min_idx = j\n",
    "\n",
    "        #최소값 index랑 현재 index 값 swap\n",
    "        arr[i], arr[min_idx] = arr[min_idx], arr[i]\n",
    "\n",
    "    return arr\n",
    "\n",
    "print(selection(ran(100)))\n",
    "print(len(selection(ran(100))))\n",
    "\n",
    "end = time.time()\n",
    "print(f\"{end - start: .3f} sec\")"
   ]
  },
  {
   "attachments": {},
   "cell_type": "markdown",
   "metadata": {},
   "source": [
    "Insertion Sort"
   ]
  },
  {
   "cell_type": "code",
   "execution_count": 18,
   "metadata": {},
   "outputs": [
    {
     "name": "stdout",
     "output_type": "stream",
     "text": [
      "[1, 14, 36, 61, 64, 66, 96, 96, 104, 112, 114, 136, 146, 151, 162, 173, 185, 185, 195, 203, 226, 241, 243, 246, 247, 252, 254, 260, 295, 307, 309, 320, 324, 341, 347, 351, 352, 371, 388, 401, 437, 440, 445, 465, 474, 490, 492, 497, 500, 503, 539, 549, 560, 567, 567, 574, 610, 611, 620, 623, 624, 628, 638, 657, 659, 660, 660, 660, 672, 679, 682, 702, 712, 715, 716, 719, 729, 736, 755, 764, 770, 809, 810, 812, 856, 859, 870, 889, 900, 916, 922, 925, 928, 933, 945, 949, 960, 965, 972, 998]\n",
      "100\n",
      "[0, 6, 6, 10, 27, 52, 76, 86, 90, 116, 119, 133, 142, 144, 151, 153, 154, 170, 216, 219, 221, 229, 259, 271, 279, 286, 324, 325, 330, 330, 332, 339, 340, 341, 375, 375, 384, 395, 402, 408, 420, 425, 426, 426, 430, 442, 450, 454, 462, 466, 475, 477, 505, 526, 541, 542, 542, 557, 563, 576, 622, 625, 629, 630, 632, 637, 667, 668, 674, 697, 700, 721, 725, 728, 731, 759, 762, 767, 783, 800, 812, 827, 837, 848, 850, 856, 862, 869, 874, 877, 895, 903, 908, 910, 913, 921, 928, 941, 966, 980]\n",
      "100\n",
      " 0.003 sec\n"
     ]
    }
   ],
   "source": [
    "start = time.time()\n",
    "\n",
    "#case1\n",
    "def insertion1(arr):\n",
    "    for i in range(1, len(arr)):\n",
    "        tmp = arr[i]\n",
    "        j = i\n",
    "        for j in range(i, 0, -1):\n",
    "            if arr[j - 1] > tmp:\n",
    "                arr[j] = arr[j - 1]\n",
    "                j -= 1\n",
    "                arr[j] = tmp\n",
    "    return arr\n",
    "#비교할 i번째 데이터 : tmp에 빼놓기\n",
    "#뒤에서부터 역순으로 비교하여 for문 돌려서 알맞는 자리에 넣기 : 내부 for문\n",
    "#이걸 n번 반복 : 외부 for문\n",
    "\n",
    "\n",
    "#case2\n",
    "def insertion2(arr):\n",
    "    for i in range(1, len(arr)):\n",
    "        tmp = arr[i]\n",
    "        j = i\n",
    "        while j > 0 and arr[j - 1] > tmp:\n",
    "            arr[j] = arr[j - 1]\n",
    "            j -= 1\n",
    "        arr[j] = tmp\n",
    "    return arr\n",
    "\n",
    "\n",
    "print(insertion1(ran(100)))\n",
    "print(len(insertion1(ran(100))))\n",
    "\n",
    "print(insertion2(ran(100)))\n",
    "print(len(insertion2(ran(100))))\n",
    "\n",
    "end = time.time()\n",
    "print(f\"{end - start: .3f} sec\")"
   ]
  },
  {
   "attachments": {},
   "cell_type": "markdown",
   "metadata": {},
   "source": [
    "Merge Sort"
   ]
  },
  {
   "cell_type": "code",
   "execution_count": 20,
   "metadata": {},
   "outputs": [
    {
     "name": "stdout",
     "output_type": "stream",
     "text": [
      "[6, 43, 50, 64, 67, 69, 80, 92, 98, 113, 113, 136, 137, 144, 146, 151, 153, 163, 194, 195, 201, 212, 217, 221, 242, 249, 264, 291, 294, 296, 297, 299, 300, 307, 320, 355, 366, 374, 388, 408, 411, 422, 423, 441, 448, 448, 463, 468, 479, 484, 487, 488, 493, 503, 517, 532, 538, 544, 544, 548, 551, 568, 569, 570, 576, 578, 594, 601, 608, 624, 630, 630, 643, 659, 669, 673, 674, 677, 705, 739, 742, 763, 772, 797, 804, 811, 826, 834, 835, 861, 876, 893, 903, 907, 915, 946, 946, 950, 974, 978]\n",
      "100\n",
      " 0.002 sec\n"
     ]
    }
   ],
   "source": [
    "start = time.time()\n",
    "\n",
    "def merge_sort(arr, p, r):\n",
    "    if p < r:\n",
    "        q = (p + r) // 2\n",
    "        merge_sort(arr, p, q)\n",
    "        merge_sort(arr, q+1, r)\n",
    "        merge(arr, p, q, r)\n",
    "    return arr\n",
    "\n",
    "def merge(arr, p, q, r):\n",
    "    i = p\n",
    "    j = q+1\n",
    "    k = p\n",
    "    tmp = [0] * len(arr)\n",
    "    while i <= q and j <= r :\n",
    "        if arr[i] <= arr[j]:\n",
    "            tmp[k] = arr[i]\n",
    "            i += 1\n",
    "        else:\n",
    "            tmp[k] = arr[j]\n",
    "            j += 1\n",
    "        k += 1\n",
    "    while i <= q:\n",
    "        tmp[k] = arr[i]\n",
    "        i += 1\n",
    "        k += 1\n",
    "    while j <= r:\n",
    "        tmp[k] = arr[j]\n",
    "        j += 1\n",
    "        k += 1\n",
    "    for i in range(p, r+1):\n",
    "        arr[i] = tmp[i]\n",
    "\n",
    "\n",
    "print(merge_sort(ran(100), 0, 99))\n",
    "print(len(merge_sort(ran(100), 0, 99)))\n",
    "\n",
    "end = time.time()\n",
    "print(f\"{end - start: .3f} sec\")"
   ]
  },
  {
   "attachments": {},
   "cell_type": "markdown",
   "metadata": {},
   "source": [
    "Quicksort1 - 마지막 값을 피봇으로 선택"
   ]
  },
  {
   "cell_type": "code",
   "execution_count": 31,
   "metadata": {},
   "outputs": [
    {
     "name": "stdout",
     "output_type": "stream",
     "text": [
      "[7, 8, 21, 23, 31, 62, 62, 67, 70, 79, 84, 90, 93, 101, 109, 146, 146, 151, 156, 189, 190, 190, 205, 205, 224, 238, 246, 261, 262, 281, 283, 292, 305, 307, 324, 373, 380, 388, 389, 395, 395, 405, 434, 439, 461, 461, 483, 501, 515, 524, 527, 529, 539, 546, 546, 550, 561, 562, 579, 583, 583, 589, 594, 601, 613, 618, 623, 630, 639, 648, 656, 662, 663, 665, 668, 669, 695, 720, 723, 730, 744, 757, 772, 788, 793, 797, 807, 814, 821, 833, 833, 835, 890, 898, 901, 937, 960, 964, 975, 981]\n",
      "100\n",
      " 0.002 sec\n"
     ]
    }
   ],
   "source": [
    "start = time.time()\n",
    "\n",
    "\n",
    "def quicksort_end(arr, p, r):\n",
    "    if p < r:\n",
    "        q = partition(arr, p, r)\n",
    "        quicksort_end(arr, p, q-1)\n",
    "        quicksort_end(arr, q+1, r)\n",
    "    return arr\n",
    "\n",
    "def partition(arr, p, r):\n",
    "    pivot = arr[r]\n",
    "    i = p - 1\n",
    "    for j in range(p, r):\n",
    "        if arr[j] <= pivot:\n",
    "            i = i + 1\n",
    "            arr[i], arr[j] = arr[j], arr[i]\n",
    "    arr[i + 1], arr[r] = arr[r], arr[i + 1]\n",
    "    return i + 1\n",
    "    \n",
    "\n",
    "print(quicksort_end(ran(100), 0, 99))\n",
    "print(len(quicksort_end(ran(100), 0, 99)))\n",
    "\n",
    "end = time.time()\n",
    "print(f\"{end - start: .3f} sec\")"
   ]
  },
  {
   "attachments": {},
   "cell_type": "markdown",
   "metadata": {},
   "source": [
    "Quicksort2 - 첫 번째 값, 가운데 위치의값, 그리고 마지막 값 중에서 중간값을 피봇으로 선택"
   ]
  },
  {
   "cell_type": "code",
   "execution_count": 55,
   "metadata": {},
   "outputs": [
    {
     "name": "stdout",
     "output_type": "stream",
     "text": [
      "[4, 33, 54, 62, 91, 100, 109, 112, 115, 119, 126, 127, 150, 152, 153, 191, 201, 201, 211, 216, 219, 220, 228, 239, 245, 291, 296, 297, 308, 327, 335, 348, 354, 360, 364, 366, 381, 399, 400, 401, 443, 463, 493, 514, 540, 551, 572, 576, 593, 598, 605, 609, 627, 629, 630, 634, 641, 644, 657, 659, 664, 667, 671, 673, 694, 695, 697, 699, 700, 708, 711, 747, 759, 759, 764, 767, 775, 780, 785, 796, 799, 808, 817, 821, 831, 831, 862, 863, 866, 886, 887, 887, 895, 930, 934, 935, 936, 967, 977, 982]\n",
      "100\n",
      " 0.001 sec\n"
     ]
    }
   ],
   "source": [
    "start = time.time()\n",
    "\n",
    "def quicksort_mid(arr, p, r):\n",
    "    if(p >= r):\n",
    "        return\n",
    "    \n",
    "    mid = (p + r) // 2\n",
    "    pivot = sorted([arr[p], arr[mid], arr[r]])[1]\n",
    "\n",
    "    i = p - 1\n",
    "    j = r + 1\n",
    "\n",
    "    while(i < j):\n",
    "        i += 1\n",
    "        while(arr[i] < pivot):\n",
    "            i += 1\n",
    "        j -= 1\n",
    "        while(arr[j] > pivot):\n",
    "            j -= 1\n",
    "        if(i < j):\n",
    "            arr[i], arr[j] = arr[j], arr[i]\n",
    "\n",
    "    quicksort_mid(arr, p, j)\n",
    "    quicksort_mid(arr, j+1, r)\n",
    "    \n",
    "    return arr\n",
    "\n",
    "\n",
    "print(quicksort_mid(ran(100), 0, 99))\n",
    "print(len(quicksort_mid(ran(100), 0, 99)))\n",
    "\n",
    "end = time.time()\n",
    "print(f\"{end - start: .3f} sec\")\n",
    "\n",
    "\n",
    "\n"
   ]
  },
  {
   "attachments": {},
   "cell_type": "markdown",
   "metadata": {},
   "source": [
    "Quicksort3 - 피봇을 랜덤하게 선택"
   ]
  },
  {
   "cell_type": "code",
   "execution_count": 44,
   "metadata": {},
   "outputs": [
    {
     "name": "stdout",
     "output_type": "stream",
     "text": [
      "[8, 10, 13, 13, 36, 41, 64, 76, 82, 89, 91, 129, 138, 159, 161, 163, 198, 198, 203, 220, 229, 246, 256, 269, 271, 278, 281, 297, 310, 319, 339, 347, 348, 388, 394, 404, 407, 410, 416, 419, 421, 438, 442, 446, 451, 459, 464, 465, 479, 483, 511, 511, 512, 518, 536, 539, 544, 556, 558, 570, 583, 619, 623, 631, 632, 632, 655, 656, 670, 686, 697, 697, 707, 708, 714, 718, 723, 724, 749, 772, 773, 775, 784, 785, 789, 798, 807, 863, 881, 887, 905, 921, 930, 932, 945, 979, 982, 982, 989, 995]\n",
      "100\n",
      " 0.002 sec\n"
     ]
    }
   ],
   "source": [
    "start = time.time()\n",
    "\n",
    "#ran = [5, 3, 8, 4, 9, 1, 6, 2, 10, 7]\n",
    "\n",
    "\n",
    "\n",
    "\n",
    "def quicksort_ran(arr, p, r):\n",
    "    if(p >= r):\n",
    "        return\n",
    "    \n",
    "    pivot_idx = random.randint(p, r)  # p부터 r까지의 랜덤한 인덱스를 선택\n",
    "    pivot = arr[pivot_idx]\n",
    "    \n",
    "    i = p - 1\n",
    "    j = r + 1\n",
    "    while(1):\n",
    "        while(1):     #while(a[++i] < pivot)               \n",
    "            i += 1\n",
    "            if(arr[i] >= pivot):\n",
    "                break\n",
    "        while(1):     #(a[--j] < pivot) \n",
    "            j -= 1\n",
    "            if(arr[j] <= pivot):\n",
    "                break\n",
    "        if(i >= j):\n",
    "            break\n",
    "        arr[i],arr[j] = arr[j],arr[i]\n",
    "\n",
    "    quicksort_ran(arr, p, j)\n",
    "    quicksort_ran(arr, j+1, r)\n",
    "\n",
    "    return arr\n",
    "\n",
    "print(quicksort_ran(ran(100), 0, 99))\n",
    "print(len(quicksort_ran(ran(100), 0, 99)))\n",
    "\n",
    "end = time.time()\n",
    "print(f\"{end - start: .3f} sec\")\n",
    "\n",
    "\n",
    "\n"
   ]
  },
  {
   "attachments": {},
   "cell_type": "markdown",
   "metadata": {},
   "source": [
    "Heap Sort"
   ]
  },
  {
   "cell_type": "code",
   "execution_count": 45,
   "metadata": {},
   "outputs": [
    {
     "name": "stdout",
     "output_type": "stream",
     "text": [
      "[5, 9, 32, 56, 71, 72, 72, 89, 110, 115, 118, 131, 142, 149, 157, 164, 167, 180, 199, 202, 230, 234, 242, 246, 251, 274, 284, 290, 298, 300, 324, 341, 345, 353, 354, 357, 357, 365, 372, 399, 409, 446, 454, 455, 508, 532, 542, 543, 549, 554, 575, 577, 577, 586, 625, 626, 629, 637, 640, 654, 675, 683, 696, 697, 710, 729, 747, 760, 779, 780, 792, 794, 807, 814, 816, 820, 822, 833, 836, 844, 844, 847, 848, 859, 863, 878, 891, 900, 904, 906, 910, 921, 922, 935, 942, 943, 949, 956, 957, 969]\n",
      "100\n",
      " 0.003 sec\n"
     ]
    }
   ],
   "source": [
    "start = time.time()\n",
    "\n",
    "def max_heapify(arr, n, i):\n",
    "    largest = i\n",
    "    left_child = 2 * i + 1\n",
    "    right_child = 2 * i + 2\n",
    "\n",
    "    if left_child < n and arr[left_child] > arr[largest]:\n",
    "        largest = left_child\n",
    "\n",
    "    if right_child < n and arr[right_child] > arr[largest]:\n",
    "        largest = right_child\n",
    "\n",
    "    if largest != i:\n",
    "        arr[i], arr[largest] = arr[largest], arr[i]  # 루트 노드와 가장 큰 자식 노드를 교환\n",
    "        max_heapify(arr, n, largest)  # 교환된 자식 노드를 루트로하여 재귀적으로 힙을 구성\n",
    "\n",
    "def build_max_heap(arr):\n",
    "    n = len(arr)\n",
    "    for i in range(n // 2 - 1, -1, -1):  # 힙의 중간 노드부터 시작하여 루트 노드까지 max_heapify를 호출\n",
    "        max_heapify(arr, n, i)\n",
    "\n",
    "\n",
    "def Heapsort(arr):\n",
    "    #build_max_heap(arr)\n",
    "    n = len(arr)\n",
    "    for i in range(n, -1, -1):\n",
    "        max_heapify(arr, n, i)\n",
    "    for i in range(n-1, 0, -1):\n",
    "        arr[i], arr[0] = arr[0], arr[i]\n",
    "        max_heapify(arr, i, 0)\n",
    "\n",
    "    return arr\n",
    "\n",
    "print(Heapsort(ran(100)))\n",
    "print(len(Heapsort(ran(100))))\n",
    "\n",
    "\n",
    "end = time.time()\n",
    "print(f\"{end - start: .3f} sec\")\n"
   ]
  },
  {
   "attachments": {},
   "cell_type": "markdown",
   "metadata": {},
   "source": [
    "파이썬 표준 정렬 라이브러리"
   ]
  },
  {
   "cell_type": "code",
   "execution_count": 47,
   "metadata": {},
   "outputs": [
    {
     "name": "stdout",
     "output_type": "stream",
     "text": [
      "[26, 70, 72, 73, 91, 95, 116, 130, 153, 158, 173, 180, 198, 212, 232, 262, 263, 267, 281, 285, 289, 299, 306, 316, 318, 328, 330, 345, 346, 392, 394, 413, 438, 438, 446, 451, 463, 465, 479, 483, 485, 491, 492, 492, 496, 511, 512, 514, 514, 518, 527, 533, 540, 557, 560, 561, 562, 567, 577, 587, 603, 603, 616, 643, 651, 656, 662, 667, 675, 680, 682, 685, 687, 688, 701, 702, 706, 710, 729, 772, 782, 783, 809, 814, 828, 838, 845, 868, 892, 911, 911, 924, 935, 941, 943, 981, 984, 985, 987, 992]\n",
      "100\n",
      " 0.001 sec\n"
     ]
    }
   ],
   "source": [
    "start = time.time()\n",
    "\n",
    "def Library(arr) :    \n",
    "  arr.sort()\n",
    "  return arr\n",
    "\n",
    "print(Library(ran(100)))\n",
    "print(len(Library(ran(100))))\n",
    "\n",
    "\n",
    "end = time.time()\n",
    "print(f\"{end - start: .3f} sec\")\n"
   ]
  },
  {
   "attachments": {},
   "cell_type": "markdown",
   "metadata": {},
   "source": [
    "테이블 출력"
   ]
  },
  {
   "cell_type": "code",
   "execution_count": 72,
   "metadata": {},
   "outputs": [
    {
     "data": {
      "text/html": [
       "<div>\n",
       "<style scoped>\n",
       "    .dataframe tbody tr th:only-of-type {\n",
       "        vertical-align: middle;\n",
       "    }\n",
       "\n",
       "    .dataframe tbody tr th {\n",
       "        vertical-align: top;\n",
       "    }\n",
       "\n",
       "    .dataframe thead th {\n",
       "        text-align: right;\n",
       "    }\n",
       "</style>\n",
       "<table border=\"1\" class=\"dataframe\">\n",
       "  <thead>\n",
       "    <tr style=\"text-align: right;\">\n",
       "      <th></th>\n",
       "      <th></th>\n",
       "      <th>N=1000</th>\n",
       "      <th>N=100000</th>\n",
       "      <th>N=10000</th>\n",
       "    </tr>\n",
       "  </thead>\n",
       "  <tbody>\n",
       "    <tr>\n",
       "      <th>0</th>\n",
       "      <td>Bubble</td>\n",
       "      <td>0.001013</td>\n",
       "      <td>11.187322</td>\n",
       "      <td>-</td>\n",
       "    </tr>\n",
       "    <tr>\n",
       "      <th>1</th>\n",
       "      <td>Selection</td>\n",
       "      <td>0.000000</td>\n",
       "      <td>2.929403</td>\n",
       "      <td>406.184962</td>\n",
       "    </tr>\n",
       "    <tr>\n",
       "      <th>2</th>\n",
       "      <td>Insertion</td>\n",
       "      <td>0.001000</td>\n",
       "      <td>4.473414</td>\n",
       "      <td>-</td>\n",
       "    </tr>\n",
       "    <tr>\n",
       "      <th>3</th>\n",
       "      <td>Merge</td>\n",
       "      <td>0.000000</td>\n",
       "      <td>0.620655</td>\n",
       "      <td>51.242332</td>\n",
       "    </tr>\n",
       "    <tr>\n",
       "      <th>4</th>\n",
       "      <td>Quick1</td>\n",
       "      <td>0.000000</td>\n",
       "      <td>0.025991</td>\n",
       "      <td>0.365336</td>\n",
       "    </tr>\n",
       "    <tr>\n",
       "      <th>5</th>\n",
       "      <td>Quick2</td>\n",
       "      <td>0.000000</td>\n",
       "      <td>0.031014</td>\n",
       "      <td>0.376691</td>\n",
       "    </tr>\n",
       "    <tr>\n",
       "      <th>6</th>\n",
       "      <td>Quick3</td>\n",
       "      <td>0.001005</td>\n",
       "      <td>0.038685</td>\n",
       "      <td>0.492632</td>\n",
       "    </tr>\n",
       "    <tr>\n",
       "      <th>7</th>\n",
       "      <td>Heap</td>\n",
       "      <td>0.000000</td>\n",
       "      <td>0.065514</td>\n",
       "      <td>0.916729</td>\n",
       "    </tr>\n",
       "    <tr>\n",
       "      <th>8</th>\n",
       "      <td>Library</td>\n",
       "      <td>0.000000</td>\n",
       "      <td>0.011004</td>\n",
       "      <td>0.115164</td>\n",
       "    </tr>\n",
       "  </tbody>\n",
       "</table>\n",
       "</div>"
      ],
      "text/plain": [
       "                N=1000   N=100000     N=10000\n",
       "0     Bubble  0.001013  11.187322           -\n",
       "1  Selection  0.000000   2.929403  406.184962\n",
       "2  Insertion  0.001000   4.473414           -\n",
       "3      Merge  0.000000   0.620655   51.242332\n",
       "4     Quick1  0.000000   0.025991    0.365336\n",
       "5     Quick2  0.000000   0.031014    0.376691\n",
       "6     Quick3  0.001005   0.038685    0.492632\n",
       "7       Heap  0.000000   0.065514    0.916729\n",
       "8    Library  0.000000   0.011004    0.115164"
      ]
     },
     "execution_count": 72,
     "metadata": {},
     "output_type": "execute_result"
    }
   ],
   "source": [
    "import pandas as pd\n",
    "\n",
    "df = pd.DataFrame(columns={'', 'N=1000', 'N=10000', 'N=100000'})\n",
    "\n",
    "#Bubble\n",
    "\n",
    "def Sorting(sort, n) :\n",
    "  start = time.time()\n",
    "\n",
    "  #정렬한 배열 출력\n",
    "  sort(ran(n))\n",
    "\n",
    "  end = time.time()\n",
    "  sec = end-start\n",
    "  \n",
    "  if sec > 600:\n",
    "    print('실행시간이 10분을 초과합니다.')\n",
    "    return None\n",
    "  return sec\n",
    "\n",
    "\n",
    "def DAC(sort, n) : \n",
    "  start = time.time()\n",
    "\n",
    "  #정렬한 배열 출력\n",
    "  sort(ran(n), 0, n-1)\n",
    "\n",
    "  end = time.time()\n",
    "  sec = end-start  \n",
    "\n",
    "  if sec > 600:\n",
    "    print('실행시간이 10분을 초과합니다.')\n",
    "    return None\n",
    "  return sec\n",
    "\n",
    "df.loc[0] = ['Bubble', Sorting(bubble, 100), Sorting(bubble, 10000), '-']\n",
    "df.loc[1] = ['Selection', Sorting(selection, 100), Sorting(selection, 10000), Sorting(selection, 100000)]\n",
    "df.loc[2] = ['Insertion', Sorting(insertion2, 100), Sorting(insertion2, 10000), '-']\n",
    "df.loc[3] = ['Merge', DAC(merge_sort, 100), DAC(merge_sort, 10000), DAC(merge_sort, 100000)]\n",
    "df.loc[4] = ['Quick1', DAC(quicksort_end, 100), DAC(quicksort_end, 10000), DAC(quicksort_end, 100000)]\n",
    "df.loc[5] = ['Quick2', DAC(quicksort_mid, 100), DAC(quicksort_mid, 10000), DAC(quicksort_mid, 100000)]\n",
    "df.loc[6] = ['Quick3', DAC(quicksort_ran, 100), DAC(quicksort_ran, 10000), DAC(quicksort_ran, 100000)]\n",
    "df.loc[7] = ['Heap', Sorting(Heapsort, 100), Sorting(Heapsort, 10000), Sorting(Heapsort, 100000)]\n",
    "df.loc[8] = ['Library', Sorting(Library, 100), Sorting(Library, 10000), Sorting(Library, 100000)]\n",
    "\n",
    "df\n"
   ]
  }
 ],
 "metadata": {
  "interpreter": {
   "hash": "aeaa0bf611fa5eec7157c76ca284d243d84b7432eaeec8da4e9c594c928a13d4"
  },
  "kernelspec": {
   "display_name": "Python 3.9.7 ('base')",
   "language": "python",
   "name": "python3"
  },
  "language_info": {
   "codemirror_mode": {
    "name": "ipython",
    "version": 3
   },
   "file_extension": ".py",
   "mimetype": "text/x-python",
   "name": "python",
   "nbconvert_exporter": "python",
   "pygments_lexer": "ipython3",
   "version": "3.8.9"
  },
  "orig_nbformat": 4
 },
 "nbformat": 4,
 "nbformat_minor": 2
}
