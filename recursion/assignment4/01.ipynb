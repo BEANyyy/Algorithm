{
 "cells": [
  {
   "cell_type": "markdown",
   "metadata": {},
   "source": [
    "난수 100개 임시로 생성해보기"
   ]
  },
  {
   "cell_type": "code",
   "execution_count": 39,
   "metadata": {},
   "outputs": [
    {
     "name": "stdout",
     "output_type": "stream",
     "text": [
      "[14, 53, 563, 732, 913, 106, 999, 376, 47, 384, 975, 452, 907, 183, 162, 757, 174, 338, 632, 926, 236, 72, 145, 862, 397, 743, 927, 278, 246, 285, 952, 432, 813, 769, 582, 1, 86, 472, 981, 622, 403, 191, 937, 624, 914, 569, 911, 440, 825, 249, 680, 833, 902, 99, 611, 143, 717, 604, 947, 49, 848, 74, 8, 419, 667, 408, 160, 456, 282, 97, 125, 455, 996, 269, 597, 110, 77, 169, 873, 890, 179, 59, 501, 717, 64, 80, 135, 274, 459, 226, 767, 314, 194, 374, 883, 439, 237, 593, 401, 648]\n"
     ]
    }
   ],
   "source": [
    "import random\n",
    "\n",
    "ran = []\n",
    "\n",
    "for r in range(0, 100):\n",
    "    ran.append(random.randint(0, 1000))\n",
    "\n",
    "print(ran)"
   ]
  },
  {
   "cell_type": "markdown",
   "metadata": {},
   "source": [
    "Bubble Sort"
   ]
  },
  {
   "cell_type": "code",
   "execution_count": 36,
   "metadata": {},
   "outputs": [
    {
     "name": "stdout",
     "output_type": "stream",
     "text": [
      "[11, 22, 27, 34, 39, 50, 57, 60, 74, 78, 79, 89, 103, 116, 127, 131, 149, 156, 159, 160, 165, 203, 209, 249, 250, 268, 274, 276, 279, 293, 295, 324, 348, 349, 353, 362, 373, 381, 393, 406, 419, 421, 421, 430, 433, 438, 447, 455, 487, 500, 501, 505, 517, 528, 537, 545, 565, 611, 632, 655, 669, 669, 673, 685, 689, 693, 698, 715, 721, 744, 748, 751, 757, 794, 801, 804, 806, 824, 824, 829, 838, 839, 847, 852, 852, 854, 854, 884, 895, 903, 927, 929, 934, 939, 947, 964, 985, 991, 997, 998]\n"
     ]
    }
   ],
   "source": [
    "def bubble_sort(arr):\n",
    "    for _ in range(len(arr) - 1):\n",
    "        for j in range(len(arr) - 1):\n",
    "            if arr[j+1] < arr[j]:\n",
    "                arr[j], arr[j+1] = arr[j+1], arr[j]\n",
    "\n",
    "bubble_sort(ran)\n",
    "print(ran)"
   ]
  },
  {
   "cell_type": "markdown",
   "metadata": {},
   "source": [
    "selection sort"
   ]
  },
  {
   "cell_type": "code",
   "execution_count": 37,
   "metadata": {},
   "outputs": [
    {
     "name": "stdout",
     "output_type": "stream",
     "text": [
      "[11, 22, 27, 34, 39, 50, 57, 60, 74, 78, 79, 89, 103, 116, 127, 131, 149, 156, 159, 160, 165, 203, 209, 249, 250, 268, 274, 276, 279, 293, 295, 324, 348, 349, 353, 362, 373, 381, 393, 406, 419, 421, 421, 430, 433, 438, 447, 455, 487, 500, 501, 505, 517, 528, 537, 545, 565, 611, 632, 655, 669, 669, 673, 685, 689, 693, 698, 715, 721, 744, 748, 751, 757, 794, 801, 804, 806, 824, 824, 829, 838, 839, 847, 852, 852, 854, 854, 884, 895, 903, 927, 929, 934, 939, 947, 964, 985, 991, 997, 998]\n"
     ]
    }
   ],
   "source": [
    "def selection_sort(arr):\n",
    "    for i in range(len(arr)):\n",
    "        min_idx = i\n",
    "\n",
    "        #현재~마지막index까지 중에 최소값\n",
    "        for j in range(i, len(arr)):\n",
    "            if arr[j] < arr[min_idx]:\n",
    "                min_idx = j\n",
    "\n",
    "        #최소값 index랑 현재 index 값 swap\n",
    "        arr[i], arr[min_idx] = arr[min_idx], arr[i]\n",
    "\n",
    "selection_sort(ran)\n",
    "print(ran)"
   ]
  },
  {
   "attachments": {},
   "cell_type": "markdown",
   "metadata": {},
   "source": [
    "Insertion Sort"
   ]
  },
  {
   "cell_type": "code",
   "execution_count": 35,
   "metadata": {},
   "outputs": [
    {
     "name": "stdout",
     "output_type": "stream",
     "text": [
      "[11, 22, 27, 34, 39, 50, 57, 60, 74, 78, 79, 89, 103, 116, 127, 131, 149, 156, 159, 160, 165, 203, 209, 249, 250, 268, 274, 276, 279, 293, 295, 324, 348, 349, 353, 362, 373, 381, 393, 406, 419, 421, 421, 430, 433, 438, 447, 455, 487, 500, 501, 505, 517, 528, 537, 545, 565, 611, 632, 655, 669, 669, 673, 685, 689, 693, 698, 715, 721, 744, 748, 751, 757, 794, 801, 804, 806, 824, 824, 829, 838, 839, 847, 852, 852, 854, 854, 884, 895, 903, 927, 929, 934, 939, 947, 964, 985, 991, 997, 998]\n",
      "[11, 22, 27, 34, 39, 50, 57, 60, 74, 78, 79, 89, 103, 116, 127, 131, 149, 156, 159, 160, 165, 203, 209, 249, 250, 268, 274, 276, 279, 293, 295, 324, 348, 349, 353, 362, 373, 381, 393, 406, 419, 421, 421, 430, 433, 438, 447, 455, 487, 500, 501, 505, 517, 528, 537, 545, 565, 611, 632, 655, 669, 669, 673, 685, 689, 693, 698, 715, 721, 744, 748, 751, 757, 794, 801, 804, 806, 824, 824, 829, 838, 839, 847, 852, 852, 854, 854, 884, 895, 903, 927, 929, 934, 939, 947, 964, 985, 991, 997, 998]\n"
     ]
    }
   ],
   "source": [
    "#case1\n",
    "def insertion_sort1(arr):\n",
    "    for i in range(1, len(arr)):\n",
    "        tmp = arr[i]\n",
    "        j = i\n",
    "        for j in range(i, 0, -1):\n",
    "            if arr[j - 1] > tmp:\n",
    "                arr[j] = arr[j - 1]\n",
    "                j -= 1\n",
    "                arr[j] = tmp\n",
    "        # while j > 0 and arr[j - 1] > tmp:\n",
    "        #     arr[j] = arr[j - 1]\n",
    "        #     j -= 1\n",
    "        # arr[j] = tmp\n",
    "#비교할 i번째 데이터 : tmp에 빼놓기\n",
    "#뒤에서부터 역순으로 비교하여 for문 돌려서 알맞는 자리에 넣기 : 내부 for문\n",
    "#이걸 n번 반복 : 외부 for문\n",
    "\n",
    "\n",
    "#case2\n",
    "def insertion_sort2(arr):\n",
    "    for i in range(1, len(arr)):\n",
    "        tmp = arr[i]\n",
    "        j = i\n",
    "        while j > 0 and arr[j - 1] > tmp:\n",
    "            arr[j] = arr[j - 1]\n",
    "            j -= 1\n",
    "        arr[j] = tmp\n",
    "\n",
    "insertion_sort1(ran)\n",
    "print(ran)\n",
    "\n",
    "insertion_sort2(ran)\n",
    "print(ran)"
   ]
  },
  {
   "attachments": {},
   "cell_type": "markdown",
   "metadata": {},
   "source": [
    "Merge Sort"
   ]
  },
  {
   "cell_type": "code",
   "execution_count": 59,
   "metadata": {},
   "outputs": [
    {
     "name": "stdout",
     "output_type": "stream",
     "text": [
      "[1, 2, 3, 4, 5, 6, 7, 8, 9, 10]\n"
     ]
    }
   ],
   "source": [
    "ran = [5, 3, 8, 4, 9, 1, 6, 2, 7, 10]\n",
    "\n",
    "def merge_sort(arr, p, r):\n",
    "    if p < r:\n",
    "        q = (p + r) // 2\n",
    "        merge_sort(arr, p, q)\n",
    "        merge_sort(arr, q+1, r)\n",
    "        merge(arr, p, q, r)\n",
    "\n",
    "def merge(arr, p, q, r):\n",
    "    i = p\n",
    "    j = q+1\n",
    "    k = p\n",
    "    tmp = [0] * len(arr)\n",
    "    while i <= q and j <= r :\n",
    "        if arr[i] <= arr[j]:\n",
    "            tmp[k] = arr[i]\n",
    "            i += 1\n",
    "        else:\n",
    "            tmp[k] = arr[j]\n",
    "            j += 1\n",
    "        k += 1\n",
    "    while i <= q:\n",
    "        tmp[k] = arr[i]\n",
    "        i += 1\n",
    "        k += 1\n",
    "    while j <= r:\n",
    "        tmp[k] = arr[j]\n",
    "        j += 1\n",
    "        k += 1\n",
    "    for i in range(p, r+1):\n",
    "        arr[i] = tmp[i]\n",
    "\n",
    "merge_sort(ran, 0, 9)\n",
    "print(ran)  "
   ]
  },
  {
   "cell_type": "markdown",
   "metadata": {},
   "source": []
  }
 ],
 "metadata": {
  "interpreter": {
   "hash": "aeaa0bf611fa5eec7157c76ca284d243d84b7432eaeec8da4e9c594c928a13d4"
  },
  "kernelspec": {
   "display_name": "Python 3.9.7 ('base')",
   "language": "python",
   "name": "python3"
  },
  "language_info": {
   "codemirror_mode": {
    "name": "ipython",
    "version": 3
   },
   "file_extension": ".py",
   "mimetype": "text/x-python",
   "name": "python",
   "nbconvert_exporter": "python",
   "pygments_lexer": "ipython3",
   "version": "3.9.13"
  },
  "orig_nbformat": 4
 },
 "nbformat": 4,
 "nbformat_minor": 2
}
