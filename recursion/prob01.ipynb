{
 "cells": [
  {
   "cell_type": "code",
   "execution_count": 1,
   "metadata": {
    "collapsed": true
   },
   "outputs": [],
   "source": [
    "path = 'input.txt'\n",
    "with open(path, 'r') as f:\n",
    "    N = int(f.readline())\n",
    "    brd = []\n",
    "    for _ in range(N):\n",
    "        line = f.readline()\n",
    "        brd.append([int(v) for v in line.split(' ')])\n",
    "\n",
    "    s = [int(v) for v in f.readline().split(' ')]\n",
    "    t = [int(v) for v in f.readline().split(' ')]"
   ]
  },
  {
   "cell_type": "code",
   "execution_count": 2,
   "metadata": {
    "collapsed": false
   },
   "outputs": [
    {
     "name": "stdout",
     "output_type": "stream",
     "text": [
      "[[0, 0, 0, 0, 0, 0, 0, 0],\n",
      " [0, 0, 1, 0, 0, 0, 0, 0],\n",
      " [0, 0, 0, 0, 0, 1, 0, 0],\n",
      " [0, 1, 0, 0, 0, 1, 0, 1],\n",
      " [0, 0, 0, 0, 0, 0, 0, 1],\n",
      " [0, 0, 1, 0, 0, 0, 0, 0],\n",
      " [1, 0, 0, 1, 1, 1, 0, 1],\n",
      " [0, 0, 0, 1, 0, 0, 0, 0]]\n",
      "[2, 2] [4, 3]\n"
     ]
    }
   ],
   "source": [
    "from pprint import pprint\n",
    "pprint(brd)\n",
    "print(s, t)"
   ]
  },
  {
   "cell_type": "code",
   "execution_count": 3,
   "metadata": {
    "collapsed": false
   },
   "outputs": [],
   "source": [
    "def inside(p):\n",
    "    return 0 <= p[0] < N and 0 <= p[1] < N"
   ]
  },
  {
   "cell_type": "code",
   "execution_count": 4,
   "metadata": {
    "collapsed": false
   },
   "outputs": [],
   "source": [
    "offset = [[-1, 0],\n",
    "          [0, 1],\n",
    "          [1, 0],\n",
    "          [0, -1]]\n",
    "\n",
    "def move(p, d):\n",
    "    p[0] += offset[d][0]\n",
    "    p[1] += offset[d][1]\n",
    "    return p"
   ]
  },
  {
   "cell_type": "code",
   "execution_count": 5,
   "metadata": {
    "collapsed": false
   },
   "outputs": [],
   "source": [
    "def navigate(cur):\n",
    "    if not inside(cur) or brd[cur[0]][cur[1]] != 0:\n",
    "        return False;\n",
    "    if cur == t:\n",
    "        return True\n",
    "\n",
    "    brd[cur[0]][cur[1]] = 2\n",
    "    for d in range(4):\n",
    "        count = 0\n",
    "        p = cur.copy()\n",
    "        for i in range(N):\n",
    "            p = move(p, d)\n",
    "            if not inside(p):\n",
    "                break\n",
    "            if brd[p[0]][p[1]] == 1:\n",
    "                count += 1\n",
    "                if count > 1:\n",
    "                    break\n",
    "            if count == 1 and brd[p[0]][p[1]] == 0:\n",
    "                if navigate(p):\n",
    "                    return True\n",
    "    brd[cur[0]][cur[1]] = 3\n",
    "    return False"
   ]
  },
  {
   "cell_type": "code",
   "execution_count": 6,
   "metadata": {
    "collapsed": false
   },
   "outputs": [
    {
     "data": {
      "text/plain": [
       "False"
      ]
     },
     "execution_count": 6,
     "metadata": {},
     "output_type": "execute_result"
    }
   ],
   "source": [
    "navigate(s)"
   ]
  },
  {
   "cell_type": "code",
   "execution_count": 7,
   "metadata": {
    "collapsed": false
   },
   "outputs": [
    {
     "name": "stdout",
     "output_type": "stream",
     "text": [
      "[[3, 3, 3, 0, 3, 0, 0, 0],\n",
      " [3, 3, 1, 3, 3, 3, 3, 3],\n",
      " [3, 3, 3, 3, 3, 1, 3, 3],\n",
      " [3, 1, 3, 3, 3, 1, 3, 1],\n",
      " [3, 3, 3, 0, 3, 3, 0, 1],\n",
      " [3, 3, 1, 3, 3, 3, 3, 3],\n",
      " [1, 3, 3, 1, 1, 1, 0, 1],\n",
      " [3, 3, 3, 1, 3, 3, 3, 3]]\n"
     ]
    }
   ],
   "source": [
    "pprint(brd)"
   ]
  }
 ],
 "metadata": {
  "kernelspec": {
   "display_name": "Python 3",
   "language": "python",
   "name": "python3"
  },
  "language_info": {
   "codemirror_mode": {
    "name": "ipython",
    "version": 3
   },
   "file_extension": ".py",
   "mimetype": "text/x-python",
   "name": "python",
   "nbconvert_exporter": "python",
   "pygments_lexer": "ipython3",
   "version": "3.8.9"
  }
 },
 "nbformat": 4,
 "nbformat_minor": 0
}
